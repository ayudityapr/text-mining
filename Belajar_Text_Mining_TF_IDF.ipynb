{
  "nbformat": 4,
  "nbformat_minor": 0,
  "metadata": {
    "colab": {
      "name": "Belajar Text Mining - TF-IDF.ipynb",
      "provenance": [],
      "toc_visible": true,
      "mount_file_id": "1gBtK5vknBBbEDWHDj6qFXQm7TWB6zssn",
      "authorship_tag": "ABX9TyO1TQAiDBDk6KFbtS5VovcM",
      "include_colab_link": true
    },
    "kernelspec": {
      "name": "python3",
      "display_name": "Python 3"
    }
  },
  "cells": [
    {
      "cell_type": "markdown",
      "metadata": {
        "id": "view-in-github",
        "colab_type": "text"
      },
      "source": [
        "<a href=\"https://colab.research.google.com/github/ianz88/text-mining/blob/master/Belajar_Text_Mining_TF_IDF.ipynb\" target=\"_parent\"><img src=\"https://colab.research.google.com/assets/colab-badge.svg\" alt=\"Open In Colab\"/></a>"
      ]
    },
    {
      "cell_type": "markdown",
      "metadata": {
        "id": "rVQJxfWaUxLF",
        "colab_type": "text"
      },
      "source": [
        "# Berkenalan dengan TF-IDF"
      ]
    },
    {
      "cell_type": "markdown",
      "metadata": {
        "id": "-izQnGujVGAo",
        "colab_type": "text"
      },
      "source": [
        "Kita akan belajar untuk:\n",
        "\n",
        "\n",
        "1.   Melakukan text preprocessing dalam bahasa Indonesia\n",
        "2.   Menghitung TF-IDF dengan TfidfVectorizer\n",
        "3.   Melihat data dengan Pandas Dataframe\n",
        "4.   Fine tuning stopwords\n",
        "5.   Melihat term penting dalam dokumen\n",
        "\n",
        "\n",
        "\n",
        "\n"
      ]
    },
    {
      "cell_type": "markdown",
      "metadata": {
        "id": "Hzx5rob6WH_r",
        "colab_type": "text"
      },
      "source": [
        "## Persiapan environment"
      ]
    },
    {
      "cell_type": "markdown",
      "metadata": {
        "id": "fk-QaY9JWb1V",
        "colab_type": "text"
      },
      "source": [
        "Install beberapa library dan package yang diperlukan dalam project (dijalankan dalam Google Colab)"
      ]
    },
    {
      "cell_type": "code",
      "metadata": {
        "id": "FlLW2imCWbRp",
        "colab_type": "code",
        "colab": {
          "base_uri": "https://localhost:8080/",
          "height": 107
        },
        "outputId": "6225d97c-7d87-41b4-89ef-e4ac952ebc4c"
      },
      "source": [
        "# Library corpus bahasa Indonesia (Sastrawi)\n",
        "!pip install sastrawi \n",
        "from Sastrawi.Stemmer.StemmerFactory import StemmerFactory\n",
        "\n",
        "# Natural Language Tool Kit (NLTK)\n",
        "import nltk\n",
        "nltk.download('stopwords')\n",
        "nltk.download('punkt')\n",
        "\n",
        "# Python Regex\n",
        "import re\n",
        "\n",
        "# Machine Learning\n",
        "from sklearn.feature_extraction.text import TfidfVectorizer"
      ],
      "execution_count": 124,
      "outputs": [
        {
          "output_type": "stream",
          "text": [
            "Requirement already satisfied: sastrawi in /usr/local/lib/python3.6/dist-packages (1.0.1)\n",
            "[nltk_data] Downloading package stopwords to /root/nltk_data...\n",
            "[nltk_data]   Package stopwords is already up-to-date!\n",
            "[nltk_data] Downloading package punkt to /root/nltk_data...\n",
            "[nltk_data]   Package punkt is already up-to-date!\n"
          ],
          "name": "stdout"
        }
      ]
    },
    {
      "cell_type": "markdown",
      "metadata": {
        "id": "iGdgSYzQYNOa",
        "colab_type": "text"
      },
      "source": [
        "## Persiapan Preprocessing"
      ]
    },
    {
      "cell_type": "markdown",
      "metadata": {
        "id": "cFRKwkrqYXF-",
        "colab_type": "text"
      },
      "source": [
        "Fungsi-fungsi yang digunakan untuk mempersiapkan dokumen (teks) yang akan diolah.\n",
        "\n"
      ]
    },
    {
      "cell_type": "code",
      "metadata": {
        "id": "ywNXKDsHV9qc",
        "colab_type": "code",
        "colab": {}
      },
      "source": [
        "# Fungsi memecah dokumen menjadi token (array elemen per kata)\n",
        "def tokenize_clean(text):\n",
        "    \n",
        "    #tokenisasi\n",
        "    tokens = [word.lower() for sent in nltk.sent_tokenize(text) for word\n",
        "        in nltk.word_tokenize(sent)]\n",
        "    \n",
        "    #clean token from numeric and other character like puntuation\n",
        "    filtered_tokens = []\n",
        "    for token in tokens:\n",
        "        if re.search('[a-zA-Z]', token) and token not in stopwords:\n",
        "            filtered_tokens.append(token)\n",
        "            \n",
        "    return filtered_tokens"
      ],
      "execution_count": 125,
      "outputs": []
    },
    {
      "cell_type": "code",
      "metadata": {
        "id": "oHRmfDlkee19",
        "colab_type": "code",
        "colab": {
          "base_uri": "https://localhost:8080/",
          "height": 35
        },
        "outputId": "5377aac7-c0f6-4c17-f679-3fe9fd77e0e7"
      },
      "source": [
        "# Daftar Stopwords\n",
        "stopwords_all = nltk.corpus.stopwords.words('indonesian')\n",
        "stopwords_tambahan = {\"ya\",\"yak\",\"iya\",\"yg\",\"ga\",\"gak\",\"gk\",\"udh\",\"sdh\",\"udah\",\"dah\",\"nih\",\"ini\",\"deh\",\"sih\",\"dong\",\"donk\",\n",
        "                 \"sm\",\"knp\",\"utk\",\"yaa\",\"tdk\",\"gini\",\"gitu\",\"bgt\",\"gt\",\"nya\",\"kalo\",\"cb\",\"jg\",\"jgn\",\"gw\",\"ge\",\n",
        "                 \"sy\",\"min\",\"mas\",\"mba\",\"mbak\",\"pak\",\"kak\",\"trus\",\"trs\",\"bs\",\"bisa\",\"aja\",\"saja\",\"no\",\n",
        "                 \"w\",\"g\",\"gua\",\"gue\",\"emang\",\"emg\",\"wkwk\",\"dr\",\"kau\",\"dg\",\"gimana\",\"apapun\",\"apa\",\n",
        "                 \"klo\",\"yah\",\"banget\",\"pake\",\"terus\",\"krn\",\"jadi\",\"jd\",\"mu\",\"ku\",\"si\",\"hehe\",\n",
        "                 \"tp\",\"pa\",\"lu\",\"lo\",\"lw\",\"tw\",\"tau\",\"karna\",\"kayak\",\"ky\",\"lg\",\"untuk\",\"tuk\",\"dg\",\"dgn\"\n",
        "                }\n",
        "stopwords_all.extend(stopwords_tambahan)\n",
        "stopwords = stopwords_all\n",
        "print(len(stopwords))"
      ],
      "execution_count": 126,
      "outputs": [
        {
          "output_type": "stream",
          "text": [
            "844\n"
          ],
          "name": "stdout"
        }
      ]
    },
    {
      "cell_type": "code",
      "metadata": {
        "id": "0HJ0QGBzYqwA",
        "colab_type": "code",
        "colab": {}
      },
      "source": [
        "# Fungsi menghilangkan stopwords dan tanda baca\n",
        "def remove_stopwords(tokenized_text):\n",
        "    \n",
        "    cleaned_token = []\n",
        "    for token in tokenized_text:\n",
        "        if token not in stopwords:\n",
        "            cleaned_token.append(token)\n",
        "            \n",
        "    return cleaned_token"
      ],
      "execution_count": 127,
      "outputs": []
    },
    {
      "cell_type": "code",
      "metadata": {
        "id": "dM5xTSIiYrK8",
        "colab_type": "code",
        "colab": {}
      },
      "source": [
        "# Fungsi mengubah kata ke bentuk kata dasar (bahasa Indonesia)\n",
        "def stemming_text(tokenized_text):\n",
        "    \n",
        "    #stem using Sastrawi StemmerFactory \n",
        "    factory = StemmerFactory()\n",
        "    stemmer = factory.create_stemmer()\n",
        "\n",
        "    stems = []\n",
        "    for token in tokenized_text:\n",
        "        stems.append(stemmer.stem(token))\n",
        "\n",
        "    return stems"
      ],
      "execution_count": 128,
      "outputs": []
    },
    {
      "cell_type": "code",
      "metadata": {
        "id": "d-vbcPlOY9TO",
        "colab_type": "code",
        "colab": {}
      },
      "source": [
        "# Fungsi preprocessing\n",
        "def text_preprocessing(text):\n",
        "    \n",
        "    prep01 = tokenize_clean(text)\n",
        "    prep02 = remove_stopwords(prep01)\n",
        "    prep03 = stemming_text(prep02)\n",
        "    \n",
        "    return prep03\n",
        "    "
      ],
      "execution_count": 129,
      "outputs": []
    },
    {
      "cell_type": "markdown",
      "metadata": {
        "id": "2mbQMSh-ZlzQ",
        "colab_type": "text"
      },
      "source": [
        "## Step 01 : Tentukan Set Data"
      ]
    },
    {
      "cell_type": "code",
      "metadata": {
        "id": "opYW8pmkZwUM",
        "colab_type": "code",
        "colab": {
          "base_uri": "https://localhost:8080/",
          "height": 35
        },
        "outputId": "fd542d54-090b-48a0-8304-88c6c5bc0d75"
      },
      "source": [
        "files = []\n",
        "files = open('sample_data/diarium3.txt', encoding=\"utf8\").read().split('\\n')\n",
        "\n",
        "#files.append(\"Sekelompok ibu dan kaum perempuan duduk beralaskan rumput lapangan sambil fokus menganyam bambu yang ia genggam di tangan.\")\n",
        "#files.append(\"Sebagian besar masyarakat rupanya tak mau melewatkan waktu begitu  saja untuk meratapi erupsi.\")\n",
        "#files.append(\"Lombok memang memiliki sejuta pesona yang mampu menyedot perhatian orang untuk datang berwisata.\")\n",
        "#files.append(\"Perempuan yang bergelut di dunia kerelawanan akan belajar caranya bertanggung jawab bagi sendiri dan orang lain.\")\n",
        "#files.append(\"Kami berkoordinasi dan melapor pada posko relawan, kami berkomitmen  siap membantu dengan siaga 24 jam\")\n",
        "\n",
        "len(files)"
      ],
      "execution_count": 130,
      "outputs": [
        {
          "output_type": "execute_result",
          "data": {
            "text/plain": [
              "678"
            ]
          },
          "metadata": {
            "tags": []
          },
          "execution_count": 130
        }
      ]
    },
    {
      "cell_type": "markdown",
      "metadata": {
        "id": "YllbKtpAbzY2",
        "colab_type": "text"
      },
      "source": [
        "## Step 02 : Membentuk Corpus Data"
      ]
    },
    {
      "cell_type": "code",
      "metadata": {
        "id": "hIf2f0gUae66",
        "colab_type": "code",
        "colab": {
          "base_uri": "https://localhost:8080/",
          "height": 35
        },
        "outputId": "f9db09a7-81e5-47f6-e380-8627d14eafaa"
      },
      "source": [
        "#Persiapan corpus, load ke dalam dictionary\n",
        "token_dict = {}\n",
        "i = 0\n",
        "for t in files:\n",
        "    filename = \"file\" + str(i)\n",
        "    token_dict[filename] = t\n",
        "    i = i + 1\n",
        "\n",
        "len(token_dict)"
      ],
      "execution_count": 131,
      "outputs": [
        {
          "output_type": "execute_result",
          "data": {
            "text/plain": [
              "678"
            ]
          },
          "metadata": {
            "tags": []
          },
          "execution_count": 131
        }
      ]
    },
    {
      "cell_type": "code",
      "metadata": {
        "id": "T0z8uZJKb_IG",
        "colab_type": "code",
        "colab": {
          "base_uri": "https://localhost:8080/",
          "height": 55
        },
        "outputId": "4e261a8b-79eb-42d3-a561-2ba0cb3860e6"
      },
      "source": [
        "token_dict.values()"
      ],
      "execution_count": 132,
      "outputs": [
        {
          "output_type": "execute_result",
          "data": {
            "text/plain": [
              "dict_values(['Tampilan UI nya buat yg lebih bagus lagi', 'agar diarium mobile ini tdk terjadi sering eror', 'notifikasi untuk check in sebelum pukul 8 pagi. tidak hanya check out', 'Kehandalan sistem perlu ditingkatkan agar tidak sering terjadi error atau lambat pada saat user mengakses bersamaan.', 'update info2 bisnis dan produk telkom, arahan Mgt', 'Sudah sangat bagus, lbh ditingkatkan lagi agar warna warna diaroumm lebh besar semangatt dan cantik.', 'Terkadang feed / status dari user lain tidak terupdate di halaman depan', 'Lebih lancar lagi jangan sering error. NDE sering tidak bisa di akses.', 'sangat bermanfaat secara sistem', 'Akan lebih baik jika update otomatis tanpa harus delete apk dulu baru install ulang.', 'Notifikasi ulang tahun pada Diarium tidak bisa dihilangkan tanda serunya walaupun sudah dilihat notifikasinya, harus menuliskan ucapan baru tanda seru nya bisa hilang. Saran saja, untuk pengembangan ke depan saat notif sudah dilihat / dibaca, tanda seru nya juga bisa hilang pada menu Notifikasi', 'Sering eror saat masuk apps', 'Fungsional ssi kebutuhan karyawan', 'fiturnya ditambah untuk keperlua hak dan kewajiban karyawan', 'Sudah bagus, agar bisa dikembangkan lagi menunya.', 'Reminding utk presensi lebih dari 1x', 'Kembangkan terus kreasinya', 'Ada fasilitas chatt dg teman', 'sering crash saat check in, harus restart hp dan log out dari Aplikasi (pengguna android)', 'Diarium Mobile sebaiknya dapat otomatis mengingat login dan password dari pengguna sehingga dedicated untuk 1 pengguna, serta otomatis passwordnya terganti ketika password kypass portal juga diganti secara berkala.', 'Perbaikan bug', 'pelayanan lebih di tunfkatkan', 'kadang sering gangguan....', 'Ya saran saya...fitur nya harus lengkap dan server nya juga harus lebih handal dan du tambah lagi bandwith nya..agar pada saat access tdk loading terus', 'Minta tolong ditambahkan fitur konsultasi kesehatan', 'Mohon server rutin kontrol saat ini sering hang...tks', 'Sering SPPD Error', 'Ui UX nya harusnya lebih familiar dg mobile apps pada umumnya, misal spt Linkaja, ovo, fb, Ig.. linked-in.. pebih menarik dan user friendly', 'UI lebih user friendly', 'sering terjadi trouble saat penggunaan', 'Perbaikan segal fitur agar mudah digunakan', 'Improvement pada engine, masih sering terjadi bug ketika open Diarium setelah diminimize, fitur cari rekan jg sering stuck.', 'tetap diupdate sesuai kebutuhan', 'Jangan terlalu sering gamgguan. Karena saat ini karyawan sudah percaya dengan Diarium. Sehingga jadi bad experience.', 'Diarium bisa mengakomodir juga keberadaan para tenaga outsourching', 'sampai saat ini sdh berjalan dengan bagus', 'tetap di jaga kelancaran aplicasi', 'Sering error perlu ditingkatkan utk hp iphone bila ada perubahan versi iphone terbaru.', 'Menu & fungsi sudah baik, dr tampilan masih bisa dipercantik & loading halaman tdk terlalu berat', 'Desain harus lebih colour full', 'Cukup dan lengkap.', 'Aplikasi ini di HP sering spt ngehang, kalau kita akses sptnya koneksi sebelumnya tidak menyebabkan user log out --> perlu ada session Ã¯ngin keluar?\" Kurang user friendly, skrg sih sdh biasa menggunakan jadi sdh faham. Tp untuk user baru berpotensi tidak mudah familiar', 'Kurang responsif sering muter2', 'UI dapat dibuat lebih simple dan lebih smooth, dapat disesuaikan dengan desain language masing2 platform (design language Android maupun iOS) agar pengalaman pengguna lebih terintegrasi dengan pengalaman menggunakan OS nya sendiri.', 'masih sering hang, agar bisa diimprove', 'Untuk menu Info Rekan sebaiknya aksesnya bisa lebih cepat, dan info yang ditampilkan lebih lengkap include nomor hp atau minimal sama dengan apabila menggunakan laptop. Dan untuk info pensiunan sebaiknya ditampilkan lengkap juga termasuk posisi terakhir bekerja/menjabat. Kalau bisa untuk info rekan ini bisa juga dibuka untuk diakses pensiunan.', 'terkadang tidak bisa presensi', 'Sudah bagus, perlu dipertahankan', 'Lebih reliable, simple dan tepat fungsi tujuan.', 'Masih kurang responsif pada saat mengakses menu', 'Agar data pensiunan telkom dapat diakses disini untuk memgetahui keadaan pensiunan dan silaturahmi bila hp nya tidak terdaftar di hp kita', 'Agar di bakukan versinya biar tidak ganti ganti terus', 'Fitur Activity belum nyaman digunakan', 'UX sudah cukup ok', 'Agar tidak gampang otomatis terlogout', 'Lebih user friendly, harus lebih smooth dalam pengoperasian', 'Connected dg linkaja', 'bisa di tambah agenda dari event Telkom Group', 'cukup inovatif tapi belum informatif dan optimal', 'Sejauh ini sdh bagus, penyempurnaan hanya dlm kecepatan akses ke diarium', 'Semakin memudahkan untuk diakses dan tidak lemot atau ngeblank', 'agar lebih user friendly', 'Semoga semakin meningkatkan performansi', 'Perlu adanya remainding pengingat password expired', 'apakah sudah dilakukan UI/X assessment oleh DXB? bila belum wajib untuk dilakukan secara periodik', 'Untuk update agar dipermudah tidak install uninstall', 'Lebih di lengkapin lagi menu nya', 'Support fitur fitur yang bisa orang gunakan , contoh Fitur M-Bangking , Fitur Games , Fitur Searching .', 'Saat ini diarium sudah baik untuk kedepannya agar lebih baik lagi dan banyak fitur2nya', 'mohon bantuan fix bugs dan crash', 'Suka hang', 'Sudah bagus, untuk ke depannya mohon diperbagus lagi dengan menambah fitur2 yg memudahkan karyawan unk mengetahui semua informasi tentang perusahaan.', 'Warnanya di ganti jgn kuning.. warna merah ya...', 'sudah cukup keren dan mantap pd saat ini', 'Memperbanyak survey untuk perbaikan kedepannya', 'Menu-menu dalam diarium agar lebih dikembangkan lebih banyak dan simple', 'untuk saat ini semua fitur yg ada sudah dapat digunakan dan berfungsi dengan baik. untuk kedepannya mungkin bisa menambahkan juga fitur chatting', 'Terus ditingkatkan', 'Chat / messaging', '1. Agar tahapan aktivitas login Bs di kurangi menjadi kurang dari < 3 langkah shg efektif menggunakan jempol 2. Activity hari ini bs ambil (template dari hr sblm nya atau Pilihan Drop Down point2 dr 3 Hari sblm nya', 'Kalau bisa aplikasi Darium bisa di instal juga PC', 'untuk masalah look and feel, lebih enak TG Portal Apps. mungkin bisa benchmark ke situ.', 'Buat tampilan lebih digital dan fungsional. Masih byk karyawan yg tidak tertarik atau tidak tahu manfaat diarium.', 'Fitur nya semakin diperbanyak', 'sdh bagus, tinggql di improve lg', 'Saya berharap tidak banyak aplikasi fungsinya hampir sama', 'Notifikasi berita penting', 'lebih simple dan mudah di gunakan tidak terlalu banyak lembar halaman', 'Setelah mengisi presensi dqn aktifitas dan apps kita tutup kemudian buka lagi tudak bisa cek paring dan atasan shg perlu disempurnakan', 'Kegiatan dihubkan dengan SKI dan NKI', 'Data info rekan diperbaiki, data atasan dan bawahan seeing tidak sesuai', 'buat tampilan yg lebih user friendly dan bisa digunakan untuk sosmed internal dan sebagai aplikasi sosmed publik kedepan', 'Semakin di tingkatkan lg', 'Tampilan UI diperingan', 'Tdk ada sudah bagus dan semoga kedepan akan bertambah fitur2 yg lebih menarik', 'Terimakasih Diarium versi 3.17 sudah sangat membantu kami dalam flexible working', 'Sering down . Untuk itu perlu ditingkatkan kehadalan aplikasinya. Terimaaksih', 'Performance lebih ditingkatkan', 'Agar Performance dan Kontent selalu update dengan global IT', 'Aplikasi dibuat lebih ringan, tampilan dynamic content sering tidak muncul, contoh seperti info rekan foto tidak muncul, atau saat absen icon tidak muncul, jika ada update aplikasi dibuat notifikasi', 'Kehandalanya spy tdk sering bermasalah', 'upgrade otomatis, tidak usah di uninstall yang lama terlebih dahulu..', 'Kadang lemot.. Mudah2 an kedepan lebih handal', 'Bisa ditambahkan menu HR lainnya', 'Sudah bagus, rekomended buat dijual ke perusahaan lain', 'tdk prrlu terlalu sering upgrade versi', 'Agar bisa lebih cepat lagi utk akses ke Diarium , karena kadang lama banget utk masuk', 'Jangan terlalu sering dibuat versionnya', 'Tidak semua Fitur bisa digunakan, masih ada yang kosong', 'Terus Ber Inovasi', 'Sudah cukup baik, hanya perlu tampilan yg menarik', 'Secara keseluruhan sdh bagus. Tinggal ditingkatkan menjadi lebih baik lagi', 'Loading agar lebih cepat', 'Desain warna lehih menarik', 'Semoga sistemnya tidak sering terganggu, aamiin', 'Lebih menarik berita nya', 'Sdh baik khususnya tambahan notification update terkait kegiatan/event intern Telkom', 'Peningkatan kinerja aplikasi Diarium agar lebih cepat, responsif, smooth. Hubungan antara tombol back di handphone perlu di-adjust karena sering kali back mundur ke step sebelumnya bukan back ke laman awal setelah mengerjakan (finished) sebuah rangkaian kegiatan seperti check in.', 'cukup bagus ,sangat membantu', 'Lebih ditingkatkan', 'Aplikasi kadang suka error', 'tampilan dibuat lebih menarik dan user friendly', 'Akses lebih cepat dan update info dari management', 'masih sering error', 'Semoga Diarium semakin mudah', 'supaya lebih ditingkatkan fitur2nya', 'Di simple kan cara penggunaan dengan menu lengkap dan berbobot', 'Data disaster tidak update', 'Server diperbaiki kualitas apalagi saat jam sibuk (jam absen/ check in/check out)', 'Tidak, cukup. Terima kasih', 'Fitur info rekan bisa lebih diperkaya, masih banyak yang tidak ada fotonya', 'Terlalu banyak update, dan masih sering error', 'Ditambahkan definition of done dalam activity agar atasan dapat lebih mengontrol ketercapaian task timnya', 'Fitur-fitur seperti my activity perlu di perkaya supaya fungsi monitoring dan controlling terhadap pekerjaan karyawan dapat di record secara sistematis dan realtime', 'Sangat bagus sekali karna mempermudah mendapatkan informasi di samping presensi kehadiran', 'So far so good! Ditunggu fitur2 keren selanjutnya :)', '- Terkadang setelah memasukkan Activity, halaman tidak bisa kembali ke Home walaupun sudah diklik tombol back berulang kali. - Emot belum bisa terbaca.', 'Upload foto tolong dipermudah', 'Kadang suka lag pd dini hari atau malam hari', 'Weekend mungkin tidak usah presensi/activity list, kecuali yang kerja shift.', 'Mungkin bisa ditambah notifikasi ketika lupa present,', '1.ada fungsi scroll up otomatis ( masih digeser2 jika akan kembali ke atas, sebaiknya ada fungsi sentuh dimana langsung tampilan kembali ke atas lagi, sprt di instagram) 2. fitur yg tidak perlu Nota Dinas, krn sdh ada bersi mobile tersendiri 3. saat absensi sangat lama loadingnya, apakah krn terlalu bnyk fitur2..? 4. fitur e-care, e-corner sbnrnya utk apa ? 5. fitur sertifikat jg utk apa ? krn tdk semua user menyimpan file sertifikat di hp , cukup versi website sj ( blm pernah nyoba baik bersi hp dan website)', 'Terus tingkatkan kualitas aplikasi', 'Kalau mengubah status activity menjadi done / cancel / pending, sering susah... Tolong diperbaiki', 'Semua Fitur website HC telkom di integrasi jadi satu aplikasi Diarium Supaya tidak merepotkan dan jadi praktis satu aplikasi untuk membuka semua portal', 'perbaiki UI/UX nya fitur yang tidak aktif, tdk bisa dipakai jangan dimunculkan (sharing timeline diarium ke sosmed)', 'Running aplikasi cenderung tdk lancar', 'Employee Care tidak ada respon dari HC, tolong direspon', 'Untuk android lumayan lancar, tapi untuk iPhone sering ngadat, tolong perbaiki. Tampilan warna dan teks kurang menarik, tolong agar diperbaiki lebih menarik lagi. Trims', 'Agar di tingkatkan', 'Buat lebih smooth lagi', 'Menu draft SPPD blm bisa diedit untuk pemohon lainnya. Mohon dibantu. Thx', 'fitur search ditingkatkan validitasnya dan user friendly. Kenapa? karena selama ini crap !', 'Mengintegrasikan semua aplikasi yang ada di Telkom', 'Kurang responsif dan masih ada bug terutama di Activity Monitoring. Perlu evaluasi UI/UX by tim UX Telkom', 'Informasi penting di portal link jg ke diarium', 'Semoga aplikasi stabil.jangan sering error', 'dibuat lebih ringan aja, setiap hari mau absen aja perlu waktu 3 kali purnama untuk nunggu apps loading. mungkin menu yang beneran vital aja yg dimasukin di diarium. masih ada beberapa menu yang tidak bisa dipakai juga', 'Bisa diakses via web/laptop', 'Agar di perbaiki lg', 'Terlalu sering update aplikasi secara manual', 'Minimalisasi bug, tambah fasilitas interaktif', 'Saran agar aplikasi ini bias diakses maximal 2 nmr HP, jadi kalo terlupa bias pake nomor HP lainnya, atau lupa terbawa tks', 'Kalau bisa di enable kan juga di iphone dgn ios 8', 'diarium mobile sangat bagus lebih bagus lagi bila ada sosialisasi awal sebelum, penggunaan aplikasi', 'Tambahahkan fitur seperti cloudx', 'Lebih cepat', 'Sdh cukup bagus saat ini', 'perlu ditambahkan menu yang bisa mengontrol progres pekerjaan juga perlu ditambahkan notifikasi terhdap penyelesaian pekerjaan tsb', 'Minim eror', 'Keluhan user tertentu bila ada pergantian pertanyaan saat presensi maka tidak bisa lanjut sampai finish', 'Perbanyak fungsi transaksi dan medsos spy sering dipake.', 'Saat ini memuaskan', 'Perlu tambahan untuk Fitur baru, seperti meeting Virtual dan Siraman Rohani', 'dibuat lebih smooth', 'Terus makin dikembangkan dengan Knowledge yg lebih baru', 'Performansi availibilty perlu dtingkatkan..pengalaman bbrp kali hang dan tdk bs digunakan utk absensi', 'maaf jangan terlalu sering di update aplikasinya...pastikan dulu bahwa aplikasi ini sdh siap utk digunakan dan utk updatenya klu bisa ada interval waktunya..', 'Saat sdh cukup bagus', 'Sudah bagus , perlu ditambahkan info info seputar Perkembanagan Industri Telco termasuk kompetitornya.', 'Visualisasi Lebih Menarik & Hidup', 'adaversi web nya juga', 'Fitur Notification khususnya Gaji kadang tidak muncul tepat waktu dan berbeda per user (misal user A dapat user B tidak) padahal gajinya sama-sama di transfer ke esokan harinya. Kemudian pada fitur My Event khususnya upacara agar tidak perlu melakukan peer review 50% peserta yang hadir, terlalu banyak.', 'tolong di tingkatkan tingkat keamanan dan tdk memberatkan sistem android', 'Jgn susah di akses', 'Absensi Pakai Jari / muka', 'terus dikembangankan menjadi lebih baik dari sisi penambahan fitur maupun pengurangan bug', '1. fitur info rekan terutama utk rekan dr AP kurang informatif; jika perlu koordinasi dg rekan dr AP kurang terbantu dg fitur ini 2. Fitur E-Care tidak ada yg follow up (sudah pernah lapor masalah karpeg, tidak ada yg mensolusikan), jadi fitur ini fungsinya apa ? supaya lebih dioptimalkan lagi', 'Jangna sampai perlu download manual untuk updatenya, cukup auto upsate ataupun lewat playstore', 'penggunaan fitur tidak ada penjelasan cara penggunaan/ sosialisasi/ help nya. yg tdk pernah saya gunakan saya tdk tau fungsinya.', 'Khusus rekans pengelola HR harusnya bisa melihat presensi dan activity all karyawan di unit nya (se Witel)', 'Terintegrasi dg mail, nde, portal news. Single sign in, ga usah login berkali kali', 'Penambahan fitur unt mengetahui apakah ybs ada slot waktu unt diundang rapat', 'Tampilan ui /Ux ..mengikuti trend', 'UI/UX nya sudah out of date, ubah UI/UX nya menjadi kekinian seperti Gojek', 'Kadang akses info rekan lambat. Ke depan tlg diperbaiki kualitas koneksi ke server krn fitur ini sgt berguna utk koordinasi', 'bila info2 yg bersifat umum dimasukkan akan lebih menarik', 'Perlu adanya notifikasi bila ada order masuk misalnya contoh ada pengajuan cuti dari staf ke atasan ada notifikasinya ke atasan yang berhak melakukan approval dll nya agar lebih cepat direspon dan mendapatkan tindak lanjutnya. Demikian juga yang lain misalnya notifikasi nota dinas dll nya. Terimakasih @Arsha', 'Untuk update diariumnya tolong dibikin otomatis. Karena ribet klo harus un install kmudian instal lsgi.', 'Pisahkan kolom (ruang sosmed/media sosial) dengan hal yg bersifat kedinasan. Sehingga lebih keliatan sebagai media silaturahim sesama karyawan.(buat semacam media fb atau twiter)', 'untuk meningkatkan versi Diarium tidak perlu dengan cara uninstall dan install versi baru. Cukup update versi baru dari versi terdahulu saja.', 'Loading menu di aplikasi relatif lama', 'agar lebih cepat dan reliable', 'Tampilan yg lebih menarik', 'Helpdesk hrus standby untuk mengatasi masalah karyawan', 'Mohon pergantian type diarium jangan terlalu cepat', 'Jgn byk di rubah rubah. Bikin pusing saja', 'Terkait ui dan ux jika dapat disajikan user friendly terutama bagi senior akan lebih baik.', 'Perkuat fungsi perkawanan yg di buat kayak face****', 'Utk info rekan ditambah keterangan siapa atasan atau bawahan ybs, sehingga memudahkan utk pembuatan NDE..', 'Bisa lebih ditingkatkan dan diperluas', 'upgrade desain UI/UX termasuk warna', 'Notif untuk activity yg kita lakukan', 'Tidak ada, sudah bagus. Mampu update cepat menyesuaikan kondisi sekarang', 'Saat ini sudah bagus dan bermanfaat', 'Saat pertanyaan menggunakan kendaraan ke kantor, logo kendaraan pribadi disesuaikan mobil dan motor, karena gak semua pegawai naik mobil XD', 'Sering eror', 'semoga tidak ada bug utk pengguna ios', 'Aplikasinya lama dan berat', 'Tampilan awal dibuat lebih menarik', 'Pada saat update ke versi baru, selalu errorr', 'Desain layout kurang hype', 'Perbanyak lagi link nya', 'Kurang menarik desainnya dan lemot', 'Aplikasi lebih cepat Login pake biometric', 'Era Digital teruslah ber Inovasi', 'Tersedia dalam kondisi offline', 'Semangat terus , untuk maju.', 'kadang masih menemukan lag di os ios', 'fitur message langsung ke Telegram/WA pengguna lainnya', 'Ok aja,,,tingkatkan yg sudah baik', 'ada beberapa fungsi pada Diarium yang belum di gunakan oleh anak perusahaan', 'Agar dapat sebagai informasi karyawan dan dapat lebih menambah menu yg bermanfaat bagi karyawan.trims', 'Lebih ditingkatkan lagi', 'fasilitas vicon free.', 'Jika ingin jadi aplikasi digital work-life sebaiknya masukkan kegiatan2 dan informasi yg penting seperti tips jaga kesehatan dan aplikasi2 life balance (aplikasi running, fitness dan lainnya)', 'Sering memberikan berita yh ter update', 'Perlu ada penjelasan cara mengisi activity dan pengisian progressnya krn persepsi berbeda beda', 'Lebih disesuaikan dengan kebutuhan karyawan', 'Agar ditambahkan lagi fitur apps lainnya', 'Ada notifikasi di Diarium tapi pas dilklik tidak ada petunjuk kemana menu untuk menindaklanjuti notifikasi itu.', 'Diarium ok punya', 'mungkin bisa ditingkatkan lagi untuk sistemnya, karena kadang tidak bisa check out dan tiba-tiba logout sendiri. terimakasih', 'layer display lebih variatif', 'Update tidak perlu meng-uninstall aplikasi yg lama', 'Dibuat lebih responsif', 'Notifikasi info penting utk karyawan, nota dinas surat masuk, Undangan khusus', 'Lebih smooth, kadang masih suka error', 'Dipercantik lagi', 'Perlu perbaikan terhadap: - Beberapa fitur belum dapat beroperasi secara maksimal. - Selain itu masih sering terjadi error saat mengakses aplikasi.', 'Mohon dibuatkan wadah didalam.diarium utk comunitas sepeda telkom grup', 'Mengurangi frekuensi error', '1. Aplikasi lumayan terjadi crash 2. Timeline kadang tidak terupdate 3. Ganti Foto profile SUSAH, FOTO sudah kurang dari 200 MB tetapi tidak bisa di upload', 'Pengembangan UI and UX agar lebih menarik. Dan mungkin, bisa custom warna dasar agar lebih sesuai dengan keinginan user', 'Terconnect dgn ND mobile, cukup dgn satu kali login saja', 'Tampilan depan sdh bagus ada doa .ditambahin kata kata,motivasi utk karyawan', 'Banyak fitur UX nya belum konsisten', 'Terus tingkatkan fungsi dan kemudahan dalam operasional dilapangan', 'tingkatkan lagi kecepatan akses Diarium', 'kalau aplikasi error cepat diketahui admin', 'Jangan sering trouble', 'mengapa untuk update Actifiti kadang tidak terdetek', 'Supaya diberikan langkah2 tiap tiap Menu spy user mengerti apa yg ingin Dibuka.', 'Kalau boleh saat cekin dan cekout ada tampilan Gps position', 'agar ke depannya lebih mudah.....trims', 'Melakukan reset password dari handphone', 'Menyesuaikan perubahan2 yng terjadi', 'Setiap penggantian Versi bisa lebih otomatis download dan Update, tidah harus uninstall, download dan reinstall', 'Untuk di buat lebih ringan', 'auto sensing time zone agar tidak perlu close app saat mau check out di sore hari, kemudian utk weekend tidak perlu diminta check in, kecuali bekerja shift', 'Perlu ditingkatkan realibitynya karena sering error server', 'Untuk saat ini kadang diarium sering error dan masi beberapa kali bugs.', 'Terus improve dan update dg perkembangan jaman', 'sudah sangat baik dan terus dipertahankan,diinovasikan untuk hal2 lain untuk membantu kelancaran dalam berkerja', 'Tampilan untuk Iphone X keatas agar lebih full screen', 'terkadang absensi bawahan dan fitur yg berulang tahun ga muncul jadi harus di clear app dlu baru klik ulang', 'Mantap. Kadang2 preaensi sukar diakses pada saat jam sibuk dan pada saat pergantian hari ( tengah malam)', 'Presensi sering error. Need Improvement', 'Agar didesain lebih milenial agar komonikasi pekerjaan dilakukan by aplikasi', 'Info rekan sering tidak bisa digunakan. Profil & foto orang yang dicari sering tidak muncul', 'Usulan perbaikan pola karier', 'Aplikasi masih kurang smooth dan kadang tidak responsif', 'Ada nodin sekalian', 'Perlunya desain monitor yang variatif.', 'cukup bagus dan bermamfaat', 'ketika checklist to do list saat check out terkadang error', 'bagian certification apakah sudah bisa upload by web diarium? jika tidak bisa, mohon agar bisa upload dokumen pdf sebagai evidence. terimakasih', 'Cukup membantu untuk proses mobile', 'Agar loading data diperbaiki', 'Hanya pertanyaan, perbedaan diarium dengan ADA itu apa ya? Apakah tujuan aplikasinya berbeda?', 'Mendukung pekerjaan', 'Perubahan data personal yg bs interface ke SAP', 'utk absensi jangan sering error', 'User interface flexible (with any text sizes)', 'Kehandalan Akses harus menjadi prioritas utama', 'Agar diarium mobile dapat digunakan oleh semua karyawan dan aplikasinya dapat di gunakan di semua device baik HP maupun Laptop', 'Ketika pengisian aktivitas sering error mungkin hanya di smartphone saya, dan ketika upload foto di komentar aktifitas muncul looping fto tsb.', 'Di fitur ada tetapi tdk bisa dibuka', 'Diarium mobile sangat bagus dan perlu ditingkatkan', 'Warnanya jangan kuning min haha, Item grey gitu cakep kayaknya min ???? trus tiap ada update ada video singkat penjelasan apa aja yg ke upgrade gt min biar mirip2 update ios apple, ahay semangat min', 'agar dijaga konsistensi updatenya dan dicek selalu compatibility tampilannya utk berbagai macam layar smartphone (karena beberapa hr terakhir dpt keluhan dr teman yg pakai iphone 5 tdk bs klik tombol presensi setelah memilih lokasi kerja)', 'Lebih dipermantap saja Krn masih sering eror', 'Lanjutkan dan yang lebih flexibel', 'tingkatkan terus fitur2nya', 'semoga semakin lebih baik', 'Semakin banyak fitur semakin bagus... sukses selalu', 'Pertahankan (dan tingkatkan) kualitas. Tks', 'Buat fitur yg menarik', 'Perlu tampilan lebih menarik dan informatif', 'Sudah cukup baik, hanya utk notifikasi SK PGS agak kurang pas, terlalu sering', 'Sebagai atasan utk monitoring bawah yg sdh melakukan Presensi blm ada menu monitoring.', 'jika bisa, ada fitur map nya ya', 'akses tetap, supaya tidak mereset lagi untuk masuk aplikasi', 'Diperkuat platfrom dan kapasitas kalo digunakan banyak orang', 'Diarium cocok digunakan untuk dan sebagai tempat mengetahui seberapa banyak kita menimba ilmu', 'Diarium saat ini fiturnya sdh cukup utk kebutuhan karyawan', 'Semoga lbh baik lg', 'Tetap update terus sesuia kebutuhan karyawan dan kemajuan zaman', 'lebih user friendly dan tampilan menarik', 'Lebih lite aja ga beratin memori', 'Agar absen lebih simpel. Gak perlu tanya kendaraan apa', 'Semoga masukan dari saja bisa dipertimbankan', 'Ada shortcut button icon menu unggulan diarium', 'Di tambahkan vitur input cuti online', 'fitur approval nota dinas', 'Update versi automatic, tidak perlu hapus dulu', 'Masih terdapat beberapa bug atau data yang tidak muncul.', 'Update aplikasi jika bisa dipermudah. Kalau bisa hanya dengan satu tombol update. Saat ini agak repot jika untuk update aplikasi prosesnya seperti download - install ulang.', 'tampilan lebih menarik lagi', 'secara keseluruhan lebih baik, masukan agar data karyawannya bisa lebih diupdate', 'menunya sdh cukup lengkap, cuma kadang sering minta update', 'Sangat mempermudah dlm bekerja', 'Lebih sering dilakukan pengetesan menu, karena terkadang beberapa tampilan susah dibuka, misal Tampilan sppd sering susah dibuka.', 'Jangan terlalu maksa Simple saja asal berguna', 'Kehandalan sistem agar lbh ditingkatkan lagi saat ada event penting spt upacara, sehingga proses absensi berjalan lancar', 'Ada kolaborasi aplikasi Link aja', 'Terdapat penjelasan terkait keterangan bekerja satelit itu seperti apa', 'Tampilan tema dan latar agar lebih menarik lagi dan update harusnya dibuat otomatis muncul notifikasi dan kita bisa langsung tekan update tanpa harus membuka dulu ke aplikasi atau portal lain', 'Lbh terintegrasi dengan activitas sehari2', '-Dibuat design sesimple mungkin, dan menarik, pd tampilan awal jgn terlalu banyak menu yg muncul, mgkn bisa di cluster sesuai favorit. -Aplikasi mgkn bisa diatur sehingga processingnya lebih cepat', 'Persi yang lama kita bisa melihat map posisi kita saat absen, tapi yang terbaru malah tidak ada sebaiknya dimunculkan', 'penyempurnaan hc wiki yg terkoneksi spy bisa download file policy', 'Lebih memberi warna Digutal', 'Penambahan Fitur Alarm Absen Check Out dan Check In Diarium sesegera mungkin diadakan', 'Tetap semangat terdepan', 'semoga semakin bagus dan makin user friendly', 'Aplikasi sering hank, dan tdk update versi secara automatis', 'Auto update', 'Cikup bagus dan akomodatif', 'Fitur report ke atasan', 'jangan sering error, dan masih banyak aplikasi yang blm bisa dugunakan', 'Lebih user friendly', 'Emoji/Emoticon tdk terbaca di kolom komentar. Mhn agar dimunculkan, terima kasih', 'Tampilan dibuat lebih simple dan mudah digunakan.', 'Belum ada masukan tapi secara tampilan dan fungsi sudah bagus dan lengkap', '1. Info rekan = plis searching nya dipermudah (membaca keyword nya) 2. kalau update tolong yang lebih user friendly tanpa harus uninstall APK yang eksisting 3. HC Wiki = keyword nya diperbanyak', 'Tampilan yang lebih sederhana, tidak berat, mengedepankan UI dan UX', 'Buay aplikasinya se smooth atau semulus TG Portal Mobile', 'Simple dan bermanfaat ...', 'tambahkan no emergency', 'Selective notification, please. Saran, notifikasi WA hanya diberikan pada aktivitas/transaksi iregular. Mosok tiap check in ada notifikasi WAnya...', 'Terkadang server lambat, pilihan untuk check out tidak dapat di klik', 'tampilannya di update secara berkala', 'jangan sering up grade versi', 'Perlu adanya panduan yang menjelaskan SOP, fungsi tiap fitur dan benefit penggunaannya.', 'kalau fungsinya sebagai percepatan koneksi ke aplikasi ( yg ada di portal telkom )...tampilannya sudah OK.... perlu di tampilkan terkait awarenes security', 'ada fitur explore image&video seperti instagram', 'jangan sering error', 'Ada ChatGroup seperti WA Agar bisa memisahkan Chatting untuk dinas dan pribadi', 'Info2 harus uptodate dan berkembang', '- Tracking activity list - apps sering lemot, berat kah?', 'inovasi yg tiada henti, memberikan kemudahan kpd rekans utk mendigitalkan dunia', 'Batas terlambat check in dan kolom alasan', 'Loading dipercepat', 'utk dibuat lebih responsif terasa lagging saat sinkronisasi data', 'Fiturnya ditambah lagi (cuti, ski, dll)', 'Beberapa fitur yg belum optimal, bisa lebih dioptimalkan misalnya fitur2 yg ada di menu', 'UI-nya terlalu plain', 'Diarium Mobile adalah Mantap, sangat membantu utk melakukan presensi, dll', 'Jangan suka eror / tidak bisa diacres', 'Penggunaannya lebih light.', 'terus di update, sesuai kebutuhan', 'UI masih bisa lebih digital', 'tampilan lebih cantik menarik', 'Buat seperti instagram atau facebook atau linked in', 'Pertahankan dan jika memungkinkan terus kembangkan Diarium ini. Dan buat semudah mungkin untuk digunakan oleh pegawai.', 'Jafikan diarium sebagai alat komunikasi utama menggantikan flatform global untuk system security ke depan.. bukan telegram, bukan whatsapp, bukan messenger lainnya.', 'Untuk aktifitas..fitur periode pengerjaan dari tanggal brp sampai tgl berapa..hendaknya dimunculkan lagi..(kalo ndak salah fitur ini ndak kelihatan lagi)', 'produk telkom harus ada disini', 'Reminder jam kerja dan jam pulang berupa alarm atau lagu', 'Improvement UI untuk icon-icon menu di diarium, supaya lebih nyaman dan enak dilihat.', 'Banyak incompatibility, tampilan krg kekinian', 'sudah sangat bagus dan sangat membantu dlm ber aktifitas semoga kedepan lebih baik dan bervarian', 'Button Insert Link. Terkadang saya mau posting artikel yang ada diinspire tp tidak bisa. Harus copy paste. Saat di copy paste pun thumbnail artikel tidak menunjukan foto atau apapun berbeda saat share dari portal', 'Sering lemot saat cari info rekan', 'Diperbaiki tampilannya', 'Aktivity harian bisa di lihat bulanan', 'Untuk update activity, kadang ketika kita sdh memasukkan activity, dan dipending untuk activity besoknya, terkadang ketika buka diarium, keesokannya sdh tidak terekam lg aktivitas kita', 'Apk. Diariuam saat ini sudah bagus, perlu dipertahankan dan ditingkatkan', 'semoga semakin baik dan semakin diperbarui dan semakin canggih. Amin.', 'Beberapa menu belum terintegrasi dengan baik', 'Masih ada error terkait struktur organisasi atasan, peer, dan bawahan', 'Kadang2 tidak bisa check in/check out', 'Aplikasi lebih reliable', 'Kadang aplikasi lemot, setelag check in sebaiknya diarahkan ke halaman utama', 'lebih mudah dan simple lagi untuk perkembangan selanjutnya', 'Menghubungkan secara otomatis antara semua pegawai Telkom Group di social Media diarium', 'Fitur cuti online dimunculin lagi. Info zona covid tidak hanya saat absen tapi ketika bepergian juga kalau bs auto muncul status di daerah tsb.', 'aplikasi yg lebih stabil', 'Menu lebih lengkap lagi base on portal yg sering digunakan karyawan saat akses portal', 'Krn harus presensi walaupun sabtu minggu, tlng ditambah kolom keterangan Libur atau Cuti', 'Hadir dgn menu yg lbh komplit & lbh detail', 'Agar selalu bervariasi dan kreatif yang sangat mudah untuk dimengerti', '1 Tingkatkan kualitas kecepatan dan kemudahan aplikasi, 2 agar masing-masing karyawan bisa monitoring prosentase % kehadiran setiap bulan, 3 agar menu slip gaji bisa diupdate kembali setiap bulannya oleh tim HC masing2 anak perusahaan', 'Improvement disesuaikan perkembangan perusahaan,,,', 'Lebih ditingkatkan tampilan dan fungsinya', 'Lebih flexibel', 'Baru hanya sebatas aplikasi belum menjadi tools yg optimal dimanfaatkan untuk pelayanan/helpdesk customer internal/karyawan khususnya fitur employee care', 'Tambah terus menu yg belum ada......Syukur2 bisa di kolaborasi dgn Aplikasi lain bisa masuk ke menu Diarium (LinkAj,Gojek dll) sehingga Diarium bisa digunakan juga u/ Link berbayar.', 'Agar tampilan semakin menarik dan semakin responsif', 'Integrasi dgn menu pembayaran tagihan', 'Versinya jgn berubah ubah', 'Diarium sangat bagus utk mengetahui kondisi kerja karyawan dan konsesten dlm mengawasi perangkat', 'Utk close activity/task di presensi online, sering gagal dan harus dicoba berkali-kali. Agar bisa diimprove lagi.', 'Beberapa fitur seting bug seperti tidak terload dengan baik.', 'sdh ditulis terdahulu.', 'semakin di tingkatkan', 'Jaringan dan jumlah user akses membuat aplikasi lemot tampilan icon/gambar lama tampaknya , walau masih dpt dioergunakan.', 'Tampilan mungkin bisa merefer ke aplikasi mainstream seperti gojek/grab/traveloka/tokopedia', 'pengurutan aplikasi berdasarkan berdasar abjad, bagus lagi ada klasifikasi favorit', 'Diarium sudah bagus mempermudah pekerjaan dan pertahankan terus makasih.', 'Mohon diberikan 1 menu yang menerangkan tentang fungsi/kegunaan dari menu yang ada di Diarium, seperti HC wiki; e-corner; notification, e-care dll', 'Lebih lengkap, lebih dipermudah & jelas', 'kadang sudah melakukan check in, pada saat check out dihitung check in lagi', 'Menu app dikategorikan saja, lalu timeline berdasarkan unit atau ada pilihan interest mau follow issue tentang apa.', 'Diarium untuk ios belum sebagus di android, terkadang masih eror', 'kemudahan update', 'Sudah sangat baik dan bisa ditingkatkan lagi', 'setiap update ke versi terbaru agar otomatis update,tdk hrs install ulang. blm mdnptkan benefit apa2 saat menggunakan menu collaborate', 'tingkatkan lagi performansinya dan pangkas journey yg lebih dari 3 step. khechehh badaaiiii guys.', 'Agar lebih di maintenance agar tidak sering eror,', 'harus awet', 'tingkatkan stabilitas aplikasi', 'Kadang belum absen tapi tidak bisa di proses. Harus reset aplikasi', 'Tidak nge hang', 'Pada penyimpanan evident (foto, Rex) update your Activity sering gagal.', 'processing time bisa dipercepat', 'Lebih ditingkatkan lg', 'agar lebih mudah penggunaannya', 'Cuduh cukup Bagus asal jangan sering gangguan saka', 'Sering terjadi bugs ketika akan check out seperti emoji tdk muncul. Semoga segera tersolusikan', 'Tinjkatkan selalu.', 'ui ux lbh diperbaiki, user journey bs di riset dg baik', 'semoga ux nya lebih baik lg', 'Agar tampilan lebih menarik dengan adanya tambahan fitur yg juga menarik', 'Diadakan speed dial untuk fitur2 yg sering digunakan', 'Simple dan praktis sesuai kebutuhan', \"Ada Do'a setiap akhir Check in atau Check out Presensi sebaiknya DoÃ¡ itu diawali dengan Kalimat Bismillahirrahmanirrahim, dan OK nya diganti dengan kata Aamiin\", 'Tingkatkan kecepatan akses nya', 'Konten lebih menarik', 'Mudah, flexsibel.. Dan cepat', 'Lebih di tingkatkan lagi', 'Sudah bagus dan tingkat kan lagi', 'agar setiap fitur terbaru sealu update', 'Lebih atraktif tampilan dan kontennya juga lebih ditingkatkan lagi fungsionalitasnya.', 'adanya beckup data', 'agar UI nya lebih menarik', 'Fitur approval nde', 'Menurut saya sudah lengkap tercakupi', 'Terlalu banyak POP Up apabila kita mau keluar', 'tampilan lebih menarik', 'Ketika kita lupa gak menutup apps diarium, kmdn mau login kadang hang appsnya ... scr over all sudah baguus ...', 'Masih sering error aplikasinya', 'semoga Diarium dapat exis', 'Sukses selalu dan terus berkembang sesuai kebutuhan saat ini', 'sdh bagus, cuma kadang klo melakukan absen, sering ngadat.. jaringan bagus...', 'semoga semakin lebih baik', 'tambahkan mobil operasional pak', 'sangat fleksibel buat seluruh Pegawai dlm mentaati disiplin dasar..Semoga Diarum mobile terus ditingkatkan untuk yg masuk MPP/Pensiun sebaiknya ada info tulidan SDH KAH ANDA MENGEMBALIKAN ALAT KERJA ?', 'Dirilis di playstore untuk mempermudah update aplikasi', 'semoga lebih baik lagi', 'Tampilan utamanya spy disesuailam dgn main functionnya....apakah utk kolaborasi, social media atau apa.', '1.Mohon setelah klik check in lngsung dihitung absen jadi tidak menunggu klik2 menu ekspresi barus terecord absen. 2 Seringkali menu ekspresi tidak muncul sehingga tidak bisa next check in/out', 'Kestabilan server saat ada check in massal dalam waktu bersamaan, seperti saat upacara dll', 'Ringkasan produk telkom, mis tarip indihome, solusi troubleshoting', 'Peningkatan kegiatan dan event individu untuk di permudah cara input photo dan vidio', 'Perlu dijaga kestabilannya', 'UI nya dibuat lbh menarik', 'Lebih user friendly', 'Mengenai perganian Versi kadang membual gagal login, kl bisa jgn terlasu sering ganti.. jika ingin mengganti diusakan sdh dipikirkan utk fungsi2 ke depan', 'Jangan terlalu sering ganti Versi.', 'agar dilengkapi fitur historis kesehatan', 'ada beberapa fiture yg tdk bisa dibuka, salah satu contoh adalah employee corner', 'Sederhanakan lagi fitur2 yang ada pada diarium, sehingga memang benar digunakan dan tidak berbenturan dengan apps lain fungsinya. lakukan sosialisasi oleh manajemen terkait fitur2 yang ada pada applikasi', 'aplikasi kadang berat', 'aplikasi sering update n refest', 'Tambahkan pilihan jalan kaki untuk cara pergi ke kantor, dan ketika check out tidak usah memilih lagi lokasi kerja', 'Semoga Diarium Telkom lebih berkembang dan sukses', 'agar mengetahui perkembangan tehnologi', 'Fitur management activity diperbaikai, karena klu kita klick done pada activity dan di sumbit .. tapi akhir nya tetap muncul kembali activity tersebut sebagai activity yg belum dikerjakan ...', 'Lebih baik lagi kedepan app nya.', 'Semua fungsi agar dioptimalkan', 'Lebih ke tahap pengembangan, agar bisa membantu dalam operasional toolls', 'Bila ada update versi sebaiknya jgn user hrs menghapus yg versi lama, ttp lakukan dg konsep update aplikasi', 'Diarium di jadikan sebagai pusat sumber data dan tools update data', 'utk fitur sppd dan slip gaji dipercepat dan dipermudah dalam login.', 'Bug di progress activity. [6/11, 10:41] Pingkan Langi: LIST ISU DIARIUM: 1. Activity yang sudah diset 100% kemarin, kembali menjadi 0% hari ini. 2. My time dan my activity belum sinkron : 1 aktivitas yang sama di my time sudah done, sedangkan di my activity tab to-do masih 0%. 3. Activity menduplikasi diri setiap diatur progressnya, dan belum ada pilihan delete. [6/12, 15:17] Pingkan Langi: LIST ISU DIARIUM: 1. Activity yang sudah diset 100% kemarin, kembali menjadi 0% hari ini. 2. My time dan my activity belum sinkron : 1 aktivitas yang sama di my time sudah done, sedangkan di my activity tab to-do masih 0%. 3. Activity menduplikasi diri setiap diatur progressnya, dan belum ada pilihan delete. 4. Saat edit activity, diduplikasi (new), tetapi tidak menghapus activity sebelumnya yang ingin di edit', 'Tolong perbaiki check in verification. Karena sejak 15 juni 2020 tidak bisa check out. Masih diminta check in padahal sudah dilakukan', 'Pertanyaan dpt disesuaikan dg yg menjalani wfh dan tidak agar jwbn lurus', 'Meningkatkan tampilan Home', 'Saya berharap untuk versi jangan di rubah tetapi fiture ada penambahan', 'Updating aplikasi secara otomatis, jd gak bongkar muat. Hrs download aplikasi, hapus app yg lama baru instal yg baru. Menurut sy itu sangat gk praktis dan jd kurang monitor kl ada updating diarium, krn sy peenah hk dpt info ada update, jd diariumnya ketinggalan', 'Versi sekarang suka ngehang', 'Jangan sering gangguan', 'Tampilan Warna agar dominan, warna ciri khas telkom.', 'Update tampilan lebih menarik', 'Diarium Mobile untuk iOS terkadang kurang stabil. Load gambar butuh waktu dan setiap login akan masuk ke halaman introduction padahal sudah diklik/ disetujui sebelumnya.', 'secara keseluruhan sangat bagus, upgrade versi rutin', 'Tingkatkan serta terus di kembangkan', 'sering kali susah log in karena ke log out sendiri', 'Terkadang logout otomatis, sehingga perlu login ulang', 'proses check in dan check out sering tidak ter record. rekap laporan hasil check in/out nya pun tidak ada. jd tidak bs mengevaluasi mandiri hasil check kita', 'agar ga lemot dan jng terlalu srg update versi', 'Lebih Easy Use, dari tampilan dan Penggunaan', 'Diarium sangat penting untuk memonitoring pekerjaan kita sehari hari', 'lapor covidd ada satu tombol menyatakan bahwa laporan masih sama dengan kemaren. jadi gak usah isi detail lagi. sangat tidak smart dan nyusahin', 'Perlu improvement menu Info Rekan spy lebih mudah digunakan & datanya valid/lengkap', 'lebih di buat lebih simpel lagi', 'miminalisir bug saat check in', 'Sering kali terjadi kendala mengisi daftar hadir pada aplikasi my event', 'Perlu lebih dinamis dan mudah dipahami. Perlunya perbaikan di fitur activity ketika memilih done pada beberapa item', 'Terlalu Banyak Tahapan utk Akses ke Aplikasi di Diarium', 'Alarm/peringatan utk check on/check out', 'Kadang masih suka eror, tidak muncul', 'Perbanyak menunya', 'Update jangan terlalu sering, lebih baik berjangka jaraknya', 'Ada request pending sudah cukup lama tapi tidak ada informasi progress.', 'tetap digunakandan selalu up date ssi perkembangan situasi Business', 'bug system di perbaiki, bisa di tambah fitur chatting', 'User friendly, kekinian, multi OS', 'Integrasikan dengan nde dan portal', 'dilengkapi sesuai rekomendasi di halaman depan', 'perlu untuk di perhatikan sering error saat absen', 'Sangat mempermudah aktivitas ,', 'Sudah Cukaup Bagus dan Familier', 'Diarrium sdh sangat membantu karyawam dan perlu di pertahankan yg sdh sangat bagus', 'Diarium Mobil sudah sangat bagus, sangat membantu karyawan dalam mobilitas aktifitas setiap hari kerja', 'Sering tidak dapat diakses', 'Lengkapi Diarium dengan Notification Berupa Gambar, biar makin mantaff.. improve text menjadi gambar', 'feedback fitur', 'Aplikasi harus stabil baik utk OS IOS atau Android.', 'Khusus utk menu presensi perlu ditambah menu terlambat', 'Seringnya perubahan password secara rutin (3 bulanan), membuat lupa terhadap password yg pernah ada', 'Untuk diarium saat ini sdh bagus', 'Update otomatis tdk harus Download ulang', 'versi jangan di rubah sudah ok', 'Endurance aplikasi masih belum stabil kadang mungcul Error Saat Check Out / check in', 'variasi konten sudah beragam, hanya detail dan focuk yang dibutuhkan karyawan kadang tidak sesuai dengan harapan, case hc wiki, bisa di tampilkan sesui serching dan dedicated by judul, kategori peraturan, tahunnya', 'Lebih digalakkan kembali penggunaan Diarium dalam lingkungan kerja Telkom Group.', 'semakin berkembang', 'Form Aja dimasukin di diarium', 'More user friendly and more fun to use it', 'Gabungkan dgn email telkim selain nodin', 'loading masih suka terlalu lama', 'Agar ditingkatkan lagi awareness karyawan thd apps ini dari level bawah sampai paling atas', 'Perlu sosialisasi menu, fungsi dan manfaat Diarium kepada karyawan.', 'Untuk kedepan nya supaya lebih simpel dan lebih di perjelas peruntukan nya', 'aplikasi lebih disederhanakan', 'user perlu di tingkatkan.', 'Harus informatif seperti gojek', 'Tidak ada selama ini bagus aja', 'Perlu di update slip gaji', 'Praktis dan cepat', 'Masih terkendala freeze / crash dan kurang smooth untuk interaksi, semoga pengembangan selanjutnya dapat solved', 'Lebih stabil, lbh cepat diakses dan informasi yg diportal 80% ada di diarium', 'Diarium sdh Oke. tnpa menggunakan F5 juga bs di aplikasikan lewat Gadget. berbeda sekali dg Aplikasi FWA TReg2. hrs pakai F5. itupun bnyk HP yg ga bisa buka skalipun sdh aktifin F5.', 'Info berita viral dan trending topic spt di detik.kom , instagram dll', 'kedepannya aplikasi diarium makin ok', 'Fitur monitoring work progress diperkaya dalam bentuk grafis achievement', 'Di permudah aksesnya jangan sering eror', 'Agar foturnya di perba yak dan yg ada di update lagi', 'mudah mudahan tdk Lola (Loading Lama ) saat di gunakan... langsung Jossss Flash....', 'Versinya agar dapat update otomatis tanpa instal baru', 'Jangan ribet saat login', 'Ada fasilitas yg ada di diarium yg tdk berjalan sebagaimana mestinya misalnya certificat, hasilnya tdk tampil, hasil tes kelulusan ut posisi tertentu juga tdk muncul', 'Aplikasi sering error, harus buka lagi dari awal', 'mengisi aktivitas pertama ngga usah klik tambah, Kalau ngga, tanda tambahnya di sebelah kiri, baru ngisi aktivitas. Ada beberapa aplikasi yang minta user dan login lagi, semoga bisa cukup 1x login saja.', 'Chatbot produk', 'Saat check out & mengupdate progress activity menjadi 100%, seringkali tidak terecord sehingga harus berkali2 mengupdate progress agar menjadi 100%.', 'Kalo bisa dilakukan penggantian tampilan secara periodik mengikuti tema telkomgroup maupun tema nasional/global yang sedang trending', 'Warna tampilan jgn melulu kuning , coba hijau atau biru biar sejuk.Tks', 'sudah bagus tinggal dikembangkan menyesuaikan dg konsisi trend saat ini', 'Alhamdulillah sangat membantu', 'Diarium kdg tidak bisa menampilkan image scr full, dan suka log out sendiri', 'Utk versi ios nya bisa lbh menyesuaikan ukuran template nya', 'Dikembangkan lagi sesuai update terkini', 'semoga lebih baik dan lebih komplit', 'Menunya yg ditampilkan bisa di filter. Cukup yg paling sering dibuka oleh user (hasil by survey)', 'Diarium Mobile sangat bagus', 'Agar menu2 terkait fasilitas / update data karyawan dapat dikembangkan lebih lanjut dan diintegrasikan secara sistem dan termaintain dgn baik. Tks', 'Tambahin fitur buat cuti online,agar mengcover seperti apps pwb sebelumnya, jadi apps diarium versi terbaru bisa lebih lengkap', 'Merubah password tidak ada di menu Diarium', 'Lebih cepat diakses, saat ini masih sering loading lama', 'Diarium Mobile untuk kedepan lebih baik', 'kadang-kadang mau login error', 'Tambahkan peta odp/ jaringan kosong', 'Top, tungkat dan kembangkan', 'Pada saat ada upacara dimana peserta upacara di satu lokasi banyak orang, akses untuk melakukan presensi harus tetap mudah (tidak hang)', 'Tampilan untuk diarium sangat baik', 'Per udah user dlm menghubakan fitur2 yg ada.', 'Lebih userfriendly lagi', 'Tingkatkan performansi aplikasi', 'semoga interfacenya lebih baik lagi', 'Tampilan aplikasi dioptimalkan', 'hashtag yg sering diketik, bisa muncul dengan fitur autocomplete ada poin yg bisa diredeem, banyak giveaway ada kuis via diarium', '1. Upgrade terus untuk menjadi lebih power full. 2. Kembangkan untuk bisa juga dipakai transaksi keuangan.', 'Integrasi antar menu dan penggunaan simbol yang perlu diperhatikan Otomatisasi pembaharuan tanpa reinstall Publish ke Playstore / Applestore', 'Untuk dijaga kelangsungannya', 'Mengapa bila untuk update di Activity selalu tidak tampil hasil update....?', 'selama ini sudah sangat bagus dan memadai', 'Perbaikan UI/UX dan stabilitas data', 'Sangat bagus diarium top', 'Menu check in nya dibikin sama saja', 'news (berita) sticker Telkom/Corporate', 'ada notif terima NDE, ada notif change password expired', 'Terus diupdate sesuai kebutuhan user', 'Masih sering forceclosed utk android, belum stabil. Vitur yg masih belum optimal atau di develop tidak perlu ada memenuhi menu fiarium. Misal Disaster, exper, ecorner. Karena belum semua karyawan bisa menikmati fitur tersebut', 'Tampilan menu riwayat pekerjaan dan jabatan mli dari 0 mk Sd menjelang pensiun', 'Utk sinyal jelek . Terkadang gagal login. Ketika membuka , tidak langsung muncul menu.check out . Muncul news', 'diarium untuk melihat info rekan masih suka nge hang, sama gambar gambarnyabkadang gak keluar, pemaksimalan bug saja coba di cek', 'semoga dapat menjadi monitoring aktivity karyawan.', 'Lebih inovatif', 'Jangan terlalu lama loadingnya.', 'Kalau bisa jangan sering beribah versi. Lenkapi dashboard', 'Informasi data karyawan tdk selengkap pwb', 'Kecepatan browsing lebih dipercepat', '1. Agar aplikasi tidak sering memberikan popup di waktu yg tidak tepat, misalnya tgl merah ketika kita mau mencari rekan masih di remind untuk absensi, ketika sudah absen masuk dan masih belum waktu pulang agar tidak ada notif untuk remind absen pulang 2. Aplikasi ketika di klik lebih responsif 3. Ada menu user guide penggunaan aplikasi 4. Data dapat ter-link dengan semua aplikasi terkait di telkom, karena ini masalah umum di telkom dimana terlalu banyak aplikasi namun data berbeda beda 5. Yg utama, bahwa waktu kerja pegawai telkom khususnya sudah di atur dan mengikuti peraturan pemerintah melalui kemenaker (kalo tidak salah) shg agar bagi pegawai yg melebihi maksimal lembur per hari/minggu/bulan mendapat notifikasi tidak hanya bagi ybs namun jg atasan langsung, shg rekan2 hc jg dapat memonitor dan memberikan jaminan jam kerja serta hak pegawai khususnya lembur', 'Perlu disiapkan kondisi saat unit harus di BKO, skenarionya tidak selalu ideal dgn struktur existing...customable', 'Harus lebih komunikatif dan informatif..Misalnya info terbaru yg harus diketahui setiap karyawan. Tks', 'Secara real Time error bisa di selesaikan secepatnya', 'saya rasa sudah sangat bagus dan ok', 'No Trouble Sistem', 'Fasilitas track person dinas luar kota', 'Semoga lebih ringan lg aplikasinya', 'Jangan sering ngadat dong.', 'Gabungkan all aplikasi layanan kepegawaian di DIARIUM', 'lebih di kurangi bug nya', 'Mohon perwakilan karyawan dari lintas generasi dipanggil untuk melakukan Design Thinking, dilakukan A/B Testing segala macem. Mohon perencanaan diarium dibantu UX dan UI designer', 'Rating ketika interaksi dengan unit lain', 'Fiturnya di tambah dan dilengkapi...sesuai kebutuhan Karyawan', 'Sering terdapat beberapa kali error saat memasuki homepage dan saat absensi, mungkin dapat diperbaiki menjadi lebih baik.', 'Terus dikembangkan agsr lebih customize', 'Untuk beberapa icon seperti check in event masih sering tidak muncul. Software update harusnya sudah otomatis update sendiri tanpa harus mendownload dan menginstall ulang. Fitur collaborate mobile apps dan web berbeda sehingga seringkali apa yang telah dikerjakan di web tidak tampil di mobile apps dan sebaliknya.', 'Semakin simple dan mudah penggunaanya', 'Lebih di tambah lagi fiture yg menunjang sarana kerja', 'Sd bagus Kaminsering terupdate halnhal baru', 'utk update dg versi baru tanpa harus uninstal versi lama', 'tetap di jaga dan perlu di kembangkan', 'terkadang untuk post status dengan foto tidak terupload', 'Lebih ditingkatkan fitur2 yg sdh ada utk anak perusahaan bisa mengakases.', 'Supaya gampang do akses', 'Bila ada event kebersamaan utk absensi sering hang', 'kadang untuk update status activity suka hang', 'Mungkin perlu di tambah info yg bersifat umum tentang bisnis arau teknologi', 'Selalu maintenance diarium', 'akses ke server lebih dijamin sehingga tidak mengalami error', 'Kalau bisa ada fitur updatd otomatis kalau ada versi terbaru.', 'Semoga Diarium menambahkan fitur2 yg lebih untuk kemudahan kami sebagai karyawan.tks', 'Update automatic setiap penggantian versi', 'Dibuat lebih simple lagi agar lebih muda diakses oleh telkomers...', 'aplikasi kolaborasi yang sudah lebih lengkap sudah sangat banyak, jadi mungkin tidak perlu mengarah kesana, tapi lebih untuk internal coordination Telkom, dan mendorong keterbukaan antara seluruh karyawan Telkom Group', 'Dibuat minim bug dan lebih smooth lagi', 'agar proises2 nya lebih simple lag', 'Sudah cukup bagus dan communicated', 'UI/UX nya lebih dimaksimalkan, dan dibuat lebih menarik', 'menu notifikasi bisa voice', 'Agar stabilitas dan responsnya dapat ditingkatkan', 'Loading info rekan sepertinya lama. Bila mungkin, hal tersebut agar dapat diperbaiki untuk membantu lebih cepatnya pelaksanaan koordinasi pekerjaan yang diperlukan.'])"
            ]
          },
          "metadata": {
            "tags": []
          },
          "execution_count": 132
        }
      ]
    },
    {
      "cell_type": "code",
      "metadata": {
        "id": "y9i5-uUDcCEJ",
        "colab_type": "code",
        "colab": {
          "base_uri": "https://localhost:8080/",
          "height": 35
        },
        "outputId": "b911dac0-06c0-44b9-dfe9-4521d28d58ea"
      },
      "source": [
        "token_dict['file0']"
      ],
      "execution_count": 133,
      "outputs": [
        {
          "output_type": "execute_result",
          "data": {
            "application/vnd.google.colaboratory.intrinsic": {
              "type": "string"
            },
            "text/plain": [
              "'Tampilan UI nya buat yg lebih bagus lagi'"
            ]
          },
          "metadata": {
            "tags": []
          },
          "execution_count": 133
        }
      ]
    },
    {
      "cell_type": "markdown",
      "metadata": {
        "id": "X8M2xc45c1L3",
        "colab_type": "text"
      },
      "source": [
        "## Step 03 : Menghitung TF-IDF"
      ]
    },
    {
      "cell_type": "markdown",
      "metadata": {
        "id": "jM8eLiUE81Rc",
        "colab_type": "text"
      },
      "source": [
        "TF-IDF (term frequency–inverse document frequency) adalah nilai perhitungan statistik yang mencerminkan seberapa pentingnya sebuah kata dalam suatu dokumen, terhadap semua kumpulan dokumen yang ada.\n",
        "\n",
        "Makin kecil nilai TF-IDF, makin sering kata tersebut muncul dalam dokumen. Bisa juga sebagai indikasi kata tersebut kurang penting.\n",
        "\n",
        "Makin besar nilai TF-IDF, makin jarang kata muncul. Kemungkinan kata tersebut adalah topik yang penting."
      ]
    },
    {
      "cell_type": "code",
      "metadata": {
        "id": "kEL1Mfobc5A4",
        "colab_type": "code",
        "colab": {}
      },
      "source": [
        "#perform tf-idf vectorization\n",
        "tfidf = TfidfVectorizer(max_df=0.8,             # terms with document frequency value > 0.8 will be removed (terlalu sering muncul)\n",
        "                        min_df=0.01,           # terms with document frequency value < 0.02 will be removed (terlalu jarang)\n",
        "                        max_features=200000,    # create maximum 200.000 vocabulary that only consider the top max_features ordered by term frequency across the corpus.\n",
        "                        stop_words = stopwords, # stopwords list\n",
        "                        use_idf=True,           # enable inverse-document-frequency reweighting\n",
        "                        tokenizer=text_preprocessing, # override the string tokenization step by using text_prepocessing function \n",
        "                        ngram_range=(1,2))      # ngram range 1 - 2 (unigram=1, bigram=2, trigram=3)\n",
        "\n",
        "tfs = tfidf.fit_transform(token_dict.values())"
      ],
      "execution_count": 134,
      "outputs": []
    },
    {
      "cell_type": "code",
      "metadata": {
        "id": "kwowU7SxoTC0",
        "colab_type": "code",
        "colab": {}
      },
      "source": [
        "#perform tf-idf vectorization\n",
        "tfidf22 = TfidfVectorizer(max_df=0.8,             # terms with document frequency value > 0.8 will be removed (terlalu sering muncul)\n",
        "                        min_df=0.008,           # terms with document frequency value < 0.008 will be removed (terlalu jarang)\n",
        "                        max_features=200000,    # create maximum 200.000 vocabulary that only consider the top max_features ordered by term frequency across the corpus.\n",
        "                        stop_words = stopwords, # stopwords list\n",
        "                        use_idf=True,           # enable inverse-document-frequency reweighting\n",
        "                        tokenizer=text_preprocessing, # override the string tokenization step by using text_prepocessing function \n",
        "                        ngram_range=(2,2))      # ngram range 1 - 2 (unigram=1, bigram=2, trigram=3)\n",
        "\n",
        "tfs22 = tfidf22.fit_transform(token_dict.values())\n",
        "\n",
        "#perform tf-idf vectorization\n",
        "tfidf23 = TfidfVectorizer(max_df=0.8,             # terms with document frequency value > 0.8 will be removed (terlalu sering muncul)\n",
        "                        min_df=0.006,           # terms with document frequency value < 0.006 will be removed (terlalu jarang)\n",
        "                        max_features=200000,    # create maximum 200.000 vocabulary that only consider the top max_features ordered by term frequency across the corpus.\n",
        "                        stop_words = stopwords, # stopwords list\n",
        "                        use_idf=True,           # enable inverse-document-frequency reweighting\n",
        "                        tokenizer=text_preprocessing, # override the string tokenization step by using text_prepocessing function \n",
        "                        ngram_range=(2,3))      # ngram range 1 - 2 (unigram=1, bigram=2, trigram=3)\n",
        "\n",
        "tfs23 = tfidf23.fit_transform(token_dict.values())"
      ],
      "execution_count": 135,
      "outputs": []
    },
    {
      "cell_type": "code",
      "metadata": {
        "id": "7hw5zKi1eS-U",
        "colab_type": "code",
        "colab": {
          "base_uri": "https://localhost:8080/",
          "height": 35
        },
        "outputId": "f119501d-e5cf-4fb5-9d1a-6e76667b80ac"
      },
      "source": [
        "# Cek tabel perhitungan. Tabel berisi rows=jumlah dokumen, columns=jumlah kata\n",
        "print(\"tfs12 : \",tfs.shape)"
      ],
      "execution_count": 136,
      "outputs": [
        {
          "output_type": "stream",
          "text": [
            "tfs12 :  (678, 99)\n"
          ],
          "name": "stdout"
        }
      ]
    },
    {
      "cell_type": "code",
      "metadata": {
        "id": "ujCpJ7akf1av",
        "colab_type": "code",
        "colab": {
          "base_uri": "https://localhost:8080/",
          "height": 73
        },
        "outputId": "78167d9e-d31f-42fc-a7a4-41bddb7a38f9"
      },
      "source": [
        "# Lihat hasil proses\n",
        "feature_names = tfidf.get_feature_names()\n",
        "print('Jumlah n-gram relevan: ', len(feature_names))\n",
        "print('n-gram temuan: ', feature_names)"
      ],
      "execution_count": 137,
      "outputs": [
        {
          "output_type": "stream",
          "text": [
            "Jumlah n-gram relevan:  99\n",
            "n-gram temuan:  ['absen', 'absensi', 'activity', 'akses', 'android', 'aplikasi', 'apps', 'bagus', 'bantu', 'beda', 'bug', 'buka', 'butuh', 'cepat', 'check', 'check in', 'check out', 'data', 'desain', 'diarium', 'diarium mobile', 'dinas', 'dll', 'eror', 'error', 'event', 'fitur', 'fitur2', 'foto', 'friendly', 'fungsi', 'ganti', 'halaman', 'hang', 'hc', 'hp', 'in', 'info', 'info rekan', 'informasi', 'integrasi', 'ios', 'kadang', 'kait', 'kali', 'karyawan', 'kembang', 'kerja', 'klik', 'langsung', 'lbh', 'lengkap', 'loading', 'login', 'lot', 'manfaat', 'masuk', 'menu', 'mobile', 'moga', 'mohon', 'mudah', 'muncul', 'notifikasi', 'ok', 'optimal', 'otomatis', 'out', 'pilih', 'portal', 'presensi', 'rekan', 'responsif', 'server', 'sesuai', 'sesuai butuh', 'simple', 'sistem', 'smooth', 'stabil', 'suka', 'tahan', 'tampil', 'tampil tarik', 'tarik', 'telkom', 'terkadang', 'tingkat', 'tolong', 'ui', 'ui ux', 'ulang', 'update', 'update versi', 'user', 'user friendly', 'ux', 'versi', 'warna']\n"
          ],
          "name": "stdout"
        }
      ]
    },
    {
      "cell_type": "code",
      "metadata": {
        "id": "WOuWTg0rgUSu",
        "colab_type": "code",
        "colab": {
          "base_uri": "https://localhost:8080/",
          "height": 269
        },
        "outputId": "b1e50ebd-39f7-4a59-aaf2-c873a492176d"
      },
      "source": [
        "import pandas as pd\n",
        "\n",
        "# print idf values\n",
        "df_idf = pd.DataFrame(tfidf.idf_, index=feature_names,columns=[\"tf-idf\"])\n",
        "\n",
        "# sort ascending\n",
        "df_idf = df_idf.sort_values(by=['tf-idf'])\n",
        "\n",
        "print(df_idf)\n",
        "#print(df_idf.head())\n",
        "#print(df_idf.tail(10))"
      ],
      "execution_count": 138,
      "outputs": [
        {
          "output_type": "stream",
          "text": [
            "                tf-idf\n",
            "diarium       3.151173\n",
            "aplikasi      3.257941\n",
            "fitur         3.477570\n",
            "tampil        3.495269\n",
            "update        3.495269\n",
            "...                ...\n",
            "sesuai butuh  5.441180\n",
            "pilih         5.441180\n",
            "optimal       5.441180\n",
            "dinas         5.441180\n",
            "langsung      5.441180\n",
            "\n",
            "[99 rows x 1 columns]\n"
          ],
          "name": "stdout"
        }
      ]
    },
    {
      "cell_type": "code",
      "metadata": {
        "id": "S9fuKaRfgwRx",
        "colab_type": "code",
        "colab": {
          "base_uri": "https://localhost:8080/",
          "height": 1000
        },
        "outputId": "cba60a28-c81b-42fd-d771-3e5973f07eb3"
      },
      "source": [
        "with pd.option_context('display.max_rows', None, 'display.max_columns', None):\n",
        " print(df_idf)"
      ],
      "execution_count": 139,
      "outputs": [
        {
          "output_type": "stream",
          "text": [
            "                  tf-idf\n",
            "diarium         3.151173\n",
            "aplikasi        3.257941\n",
            "fitur           3.477570\n",
            "tampil          3.495269\n",
            "update          3.495269\n",
            "tingkat         3.608598\n",
            "bagus           3.628801\n",
            "menu            3.691980\n",
            "mudah           3.883035\n",
            "user            3.994261\n",
            "karyawan        4.054885\n",
            "akses           4.054885\n",
            "tarik           4.119424\n",
            "error           4.119424\n",
            "kadang          4.153325\n",
            "versi           4.153325\n",
            "cepat           4.153325\n",
            "check           4.188417\n",
            "kembang         4.224784\n",
            "moga            4.262525\n",
            "out             4.342567\n",
            "info            4.385127\n",
            "muncul          4.429579\n",
            "sesuai          4.429579\n",
            "in              4.429579\n",
            "kerja           4.429579\n",
            "activity        4.524889\n",
            "fungsi          4.524889\n",
            "check in        4.576182\n",
            "telkom          4.630249\n",
            "otomatis        4.687408\n",
            "lengkap         4.687408\n",
            "masuk           4.687408\n",
            "friendly        4.687408\n",
            "mobile          4.687408\n",
            "user friendly   4.687408\n",
            "data            4.748032\n",
            "rekan           4.748032\n",
            "presensi        4.748032\n",
            "bantu           4.748032\n",
            "ui              4.748032\n",
            "bug             4.812571\n",
            "check out       4.812571\n",
            "login           4.812571\n",
            "terkadang       4.812571\n",
            "buka            4.812571\n",
            "ganti           4.812571\n",
            "notifikasi      4.812571\n",
            "info rekan      4.881564\n",
            "simple          4.881564\n",
            "apps            4.955672\n",
            "absen           4.955672\n",
            "portal          4.955672\n",
            "butuh           4.955672\n",
            "loading         5.035714\n",
            "suka            5.035714\n",
            "ui ux           5.035714\n",
            "tampil tarik    5.035714\n",
            "ux              5.035714\n",
            "smooth          5.122726\n",
            "warna           5.122726\n",
            "eror            5.122726\n",
            "hang            5.122726\n",
            "fitur2          5.122726\n",
            "kali            5.122726\n",
            "integrasi       5.122726\n",
            "tolong          5.218036\n",
            "diarium mobile  5.218036\n",
            "responsif       5.218036\n",
            "ios             5.218036\n",
            "mohon           5.218036\n",
            "foto            5.218036\n",
            "absensi         5.218036\n",
            "ulang           5.218036\n",
            "lbh             5.218036\n",
            "hp              5.218036\n",
            "update versi    5.323397\n",
            "desain          5.323397\n",
            "stabil          5.323397\n",
            "sistem          5.323397\n",
            "server          5.323397\n",
            "kait            5.323397\n",
            "klik            5.323397\n",
            "ok              5.323397\n",
            "lot             5.323397\n",
            "hc              5.323397\n",
            "informasi       5.323397\n",
            "beda            5.441180\n",
            "android         5.441180\n",
            "manfaat         5.441180\n",
            "dll             5.441180\n",
            "event           5.441180\n",
            "halaman         5.441180\n",
            "tahan           5.441180\n",
            "sesuai butuh    5.441180\n",
            "pilih           5.441180\n",
            "optimal         5.441180\n",
            "dinas           5.441180\n",
            "langsung        5.441180\n"
          ],
          "name": "stdout"
        }
      ]
    },
    {
      "cell_type": "markdown",
      "metadata": {
        "id": "J7mAq6pVsMaN",
        "colab_type": "text"
      },
      "source": [
        "Bandingkan dengan hasil n-gram 2 dan 3"
      ]
    },
    {
      "cell_type": "code",
      "metadata": {
        "id": "MNpm2brusRBU",
        "colab_type": "code",
        "colab": {
          "base_uri": "https://localhost:8080/",
          "height": 71
        },
        "outputId": "a193ba02-d3be-467a-ec12-5bdc04281580"
      },
      "source": [
        "# Cek tabel perhitungan. Tabel berisi rows=jumlah dokumen, columns=jumlah kata\n",
        "print(\"tfs12 : \",tfs.shape)\n",
        "print(\"tfs22 : \",tfs22.shape)\n",
        "print(\"tfs23 : \",tfs23.shape)"
      ],
      "execution_count": 140,
      "outputs": [
        {
          "output_type": "stream",
          "text": [
            "tfs12 :  (678, 99)\n",
            "tfs22 :  (678, 11)\n",
            "tfs23 :  (678, 16)\n"
          ],
          "name": "stdout"
        }
      ]
    },
    {
      "cell_type": "code",
      "metadata": {
        "id": "JeCf2rE4sdMB",
        "colab_type": "code",
        "colab": {
          "base_uri": "https://localhost:8080/",
          "height": 127
        },
        "outputId": "f6b3a749-e5a4-4505-d5d9-83e8bf431158"
      },
      "source": [
        "# Lihat hasil proses\n",
        "feature_names22 = tfidf22.get_feature_names()\n",
        "print('Jumlah bigram relevan: ', len(feature_names22))\n",
        "print('bigram temuan: ', feature_names22)\n",
        "\n",
        "feature_names23 = tfidf23.get_feature_names()\n",
        "print('\\nJumlah bi/trigram relevan: ', len(feature_names23))\n",
        "print('bi/trigram temuan: ', feature_names23)"
      ],
      "execution_count": 141,
      "outputs": [
        {
          "output_type": "stream",
          "text": [
            "Jumlah bigram relevan:  11\n",
            "bigram temuan:  ['butuh karyawan', 'cepat akses', 'check in', 'check out', 'diarium mobile', 'info rekan', 'sesuai butuh', 'tampil tarik', 'update aplikasi', 'update versi', 'user friendly']\n",
            "\n",
            "Jumlah bi/trigram relevan:  16\n",
            "bi/trigram temuan:  ['butuh karyawan', 'cepat akses', 'check in', 'check in check', 'check out', 'diarium mobile', 'in check out', 'info rekan', 'menu diarium', 'sesuai butuh', 'tampil tarik', 'ui ux', 'update aplikasi', 'update otomatis', 'update versi', 'user friendly']\n"
          ],
          "name": "stdout"
        }
      ]
    },
    {
      "cell_type": "code",
      "metadata": {
        "id": "4ub4kqjQs32f",
        "colab_type": "code",
        "colab": {
          "base_uri": "https://localhost:8080/",
          "height": 251
        },
        "outputId": "ff4cfe44-4242-4c3a-c124-4ebbefc7eb88"
      },
      "source": [
        "# print idf values\n",
        "df_idf22 = pd.DataFrame(tfidf22.idf_, index=feature_names22,columns=[\"tf-idf\"])\n",
        "\n",
        "# sort ascending\n",
        "df_idf22 = df_idf22.sort_values(by=['tf-idf'])\n",
        "\n",
        "print(\"TF_IDF bigram:\")\n",
        "print(df_idf22)"
      ],
      "execution_count": 142,
      "outputs": [
        {
          "output_type": "stream",
          "text": [
            "TF_IDF bigram:\n",
            "                   tf-idf\n",
            "check in         4.576182\n",
            "user friendly    4.687408\n",
            "check out        4.812571\n",
            "info rekan       4.881564\n",
            "tampil tarik     5.035714\n",
            "diarium mobile   5.218036\n",
            "update versi     5.323397\n",
            "sesuai butuh     5.441180\n",
            "butuh karyawan   5.574711\n",
            "cepat akses      5.574711\n",
            "update aplikasi  5.574711\n"
          ],
          "name": "stdout"
        }
      ]
    },
    {
      "cell_type": "code",
      "metadata": {
        "id": "1GQZC_M9tHu-",
        "colab_type": "code",
        "colab": {
          "base_uri": "https://localhost:8080/",
          "height": 341
        },
        "outputId": "3bfcb2bc-fdad-4565-c72b-8e7ebfc2775a"
      },
      "source": [
        "# print idf values\n",
        "df_idf23 = pd.DataFrame(tfidf23.idf_, index=feature_names23,columns=[\"tf-idf\"])\n",
        "\n",
        "# sort ascending\n",
        "df_idf23 = df_idf23.sort_values(by=['tf-idf'])\n",
        "\n",
        "print(\"TF_IDF bi/trigram:\")\n",
        "print(df_idf23)"
      ],
      "execution_count": 143,
      "outputs": [
        {
          "output_type": "stream",
          "text": [
            "TF_IDF bi/trigram:\n",
            "                   tf-idf\n",
            "check in         4.576182\n",
            "user friendly    4.687408\n",
            "check out        4.812571\n",
            "info rekan       4.881564\n",
            "tampil tarik     5.035714\n",
            "diarium mobile   5.218036\n",
            "update versi     5.323397\n",
            "sesuai butuh     5.441180\n",
            "butuh karyawan   5.574711\n",
            "cepat akses      5.574711\n",
            "update aplikasi  5.574711\n",
            "check in check   5.728862\n",
            "in check out     5.728862\n",
            "menu diarium     5.728862\n",
            "ui ux            5.728862\n",
            "update otomatis  5.728862\n"
          ],
          "name": "stdout"
        }
      ]
    },
    {
      "cell_type": "markdown",
      "metadata": {
        "id": "VBNGhaejrgqj",
        "colab_type": "text"
      },
      "source": [
        "## Step 04 : Fine Tuning Stopwords"
      ]
    },
    {
      "cell_type": "markdown",
      "metadata": {
        "id": "WNtRZQ6drnDA",
        "colab_type": "text"
      },
      "source": [
        "Kita bisa memanfaatkan hasil kalkukasi awal TF IDF untuk memperbaiki proses selanjutnya agar lebih relevan"
      ]
    },
    {
      "cell_type": "code",
      "metadata": {
        "id": "yO-Xyh4rrwfD",
        "colab_type": "code",
        "colab": {
          "base_uri": "https://localhost:8080/",
          "height": 53
        },
        "outputId": "90ea463b-0290-4289-8a67-5049a56fc5f4"
      },
      "source": [
        "print(\"Sebelum fine tune : \", len(stopwords))\n",
        "stopwords_finetune = {\"diarium\",\"fitur\",\"telkom\",\"ok\",\"dll\"}\n",
        "\n",
        "stopwords_all.extend(stopwords_finetune)\n",
        "print(\"Setelah fine tune : \", len(stopwords))"
      ],
      "execution_count": 144,
      "outputs": [
        {
          "output_type": "stream",
          "text": [
            "Sebelum fine tune :  844\n",
            "Setelah fine tune :  849\n"
          ],
          "name": "stdout"
        }
      ]
    },
    {
      "cell_type": "markdown",
      "metadata": {
        "id": "yo3SvFckvJNc",
        "colab_type": "text"
      },
      "source": [
        "Uji hasil fine tuning"
      ]
    },
    {
      "cell_type": "code",
      "metadata": {
        "id": "KHfj9-qgu-GA",
        "colab_type": "code",
        "colab": {
          "base_uri": "https://localhost:8080/",
          "height": 35
        },
        "outputId": "20d21b4c-cdf0-4925-e73f-8da24923cad5"
      },
      "source": [
        "#perform tf-idf vectorization\n",
        "tfidf22 = TfidfVectorizer(max_df=0.8,             # terms with document frequency value > 0.8 will be removed (terlalu sering muncul)\n",
        "                        min_df=0.006,           # terms with document frequency value < 0.008 will be removed (terlalu jarang)\n",
        "                        max_features=200000,    # create maximum 200.000 vocabulary that only consider the top max_features ordered by term frequency across the corpus.\n",
        "                        stop_words = stopwords, # stopwords list\n",
        "                        use_idf=True,           # enable inverse-document-frequency reweighting\n",
        "                        tokenizer=text_preprocessing, # override the string tokenization step by using text_prepocessing function \n",
        "                        ngram_range=(2,2))      # ngram range 1 - 2 (unigram=1, bigram=2, trigram=3)\n",
        "\n",
        "tfs22 = tfidf22.fit_transform(token_dict.values())\n",
        "\n",
        "# Cek tabel perhitungan. Tabel berisi rows=jumlah dokumen, columns=jumlah kata\n",
        "print(\"tfs22 shape : \",tfs22.shape)\n"
      ],
      "execution_count": 145,
      "outputs": [
        {
          "output_type": "stream",
          "text": [
            "tfs22 shape :  (678, 12)\n"
          ],
          "name": "stdout"
        }
      ]
    },
    {
      "cell_type": "code",
      "metadata": {
        "id": "49BaOXUpveUJ",
        "colab_type": "code",
        "colab": {
          "base_uri": "https://localhost:8080/",
          "height": 73
        },
        "outputId": "aa279df6-2e3a-4a1a-8630-ff4bf098a1e7"
      },
      "source": [
        "# Lihat hasil proses\n",
        "feature_names22 = tfidf22.get_feature_names()\n",
        "print('Jumlah bigram relevan: ', len(feature_names22))\n",
        "print('bigram temuan: ', feature_names22)"
      ],
      "execution_count": 146,
      "outputs": [
        {
          "output_type": "stream",
          "text": [
            "Jumlah bigram relevan:  12\n",
            "bigram temuan:  ['butuh karyawan', 'cepat akses', 'check in', 'check out', 'info rekan', 'sesuai butuh', 'tampil tarik', 'ui ux', 'update aplikasi', 'update otomatis', 'update versi', 'user friendly']\n"
          ],
          "name": "stdout"
        }
      ]
    },
    {
      "cell_type": "code",
      "metadata": {
        "id": "twp6HT80vgUD",
        "colab_type": "code",
        "colab": {
          "base_uri": "https://localhost:8080/",
          "height": 269
        },
        "outputId": "fe74f079-2ed6-4fe1-9889-78fb69a90497"
      },
      "source": [
        "# print idf values\n",
        "df_idf22 = pd.DataFrame(tfidf22.idf_, index=feature_names22,columns=[\"tf-idf\"])\n",
        "\n",
        "# sort ascending\n",
        "df_idf22 = df_idf22.sort_values(by=['tf-idf'])\n",
        "\n",
        "print(\"TF_IDF bigram:\")\n",
        "print(df_idf22)"
      ],
      "execution_count": 147,
      "outputs": [
        {
          "output_type": "stream",
          "text": [
            "TF_IDF bigram:\n",
            "                   tf-idf\n",
            "check in         4.576182\n",
            "user friendly    4.687408\n",
            "check out        4.812571\n",
            "info rekan       4.881564\n",
            "tampil tarik     5.035714\n",
            "update versi     5.323397\n",
            "sesuai butuh     5.441180\n",
            "butuh karyawan   5.574711\n",
            "cepat akses      5.574711\n",
            "update aplikasi  5.574711\n",
            "ui ux            5.728862\n",
            "update otomatis  5.728862\n"
          ],
          "name": "stdout"
        }
      ]
    },
    {
      "cell_type": "markdown",
      "metadata": {
        "id": "iCaud76HkORs",
        "colab_type": "text"
      },
      "source": [
        "## Step 05 : Transformasi TF-IDF"
      ]
    },
    {
      "cell_type": "markdown",
      "metadata": {
        "id": "fqzCPghikyZI",
        "colab_type": "text"
      },
      "source": [
        "Kita bisa mengguakan model hasil proses untuk mengecek kemunculan term penting hasil kalkulasi di dokumen lain."
      ]
    },
    {
      "cell_type": "code",
      "metadata": {
        "id": "jUu9zNd4keN1",
        "colab_type": "code",
        "colab": {
          "base_uri": "https://localhost:8080/",
          "height": 145
        },
        "outputId": "de53a483-9a83-46af-ad92-91a6da893c1a"
      },
      "source": [
        "str1 = 'Update aplikasi jika bisa dipermudah. Kalau bisa hanya dengan satu tombol update. Saat ini agak repot jika untuk update aplikasi prosesnya seperti download - install ulang.'\n",
        "\n",
        "#show result\n",
        "print('\\nHasil temuan str1:')\n",
        "for col in response.nonzero()[1]:\n",
        "    print (feature_names22[col], ' - ', response[0, col])\n",
        "print('\\nHasil response :', response.shape)\n",
        "print('Hasil preprocess str1: ', text_preprocessing(str1))\n",
        "\n"
      ],
      "execution_count": 163,
      "outputs": [
        {
          "output_type": "stream",
          "text": [
            "\n",
            "Hasil temuan str1:\n",
            "update aplikasi  -  1.0\n",
            "\n",
            "Hasil response : (1, 12)\n",
            "Hasil preprocess str1:  ['update', 'aplikasi', 'mudah', 'tombol', 'update', 'repot', 'update', 'aplikasi', 'proses', 'download', 'install', 'ulang']\n"
          ],
          "name": "stdout"
        }
      ]
    },
    {
      "cell_type": "code",
      "metadata": {
        "id": "4ME_6bdr8fuj",
        "colab_type": "code",
        "colab": {
          "base_uri": "https://localhost:8080/",
          "height": 163
        },
        "outputId": "c394c375-461b-453b-9c40-02073e8ffaa9"
      },
      "source": [
        "str2 = '1. Info rekan = plis searching nya dipermudah (membaca keyword nya) 2. kalau update tolong yang lebih user friendly tanpa harus uninstall APK yang eksisting 3. HC Wiki = keyword nya diperbanyak'\n",
        "response2 = tfidf22.transform([str2])\n",
        "\n",
        "print('\\nHasil temuan str2:')\n",
        "for col in response2.nonzero()[1]:\n",
        "    print (feature_names22[col], ' - ', response2[0, col])\n",
        "print('\\nHasil response:', response2.shape)\n",
        "print('Hasil preprocess str2: ', text_preprocessing(str2))"
      ],
      "execution_count": 164,
      "outputs": [
        {
          "output_type": "stream",
          "text": [
            "\n",
            "Hasil temuan str2:\n",
            "user friendly  -  0.6926169104272608\n",
            "info rekan  -  0.7213056324403656\n",
            "\n",
            "Hasil response: (1, 12)\n",
            "Hasil preprocess str2:  ['info', 'rekan', 'plis', 'searching', 'mudah', 'baca', 'keyword', 'update', 'tolong', 'user', 'friendly', 'uninstall', 'apk', 'eksisting', 'hc', 'wiki', 'keyword', 'banyak']\n"
          ],
          "name": "stdout"
        }
      ]
    }
  ]
}